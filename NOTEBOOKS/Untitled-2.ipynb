{
 "cells": [
  {
   "cell_type": "code",
   "execution_count": 3,
   "metadata": {},
   "outputs": [
    {
     "ename": "ModuleNotFoundError",
     "evalue": "No module named 'pptx'",
     "output_type": "error",
     "traceback": [
      "\u001b[1;31m---------------------------------------------------------------------------\u001b[0m",
      "\u001b[1;31mModuleNotFoundError\u001b[0m                       Traceback (most recent call last)",
      "\u001b[1;32m~\\AppData\\Local\\Temp\\ipykernel_23948\\4150557004.py\u001b[0m in \u001b[0;36m<module>\u001b[1;34m\u001b[0m\n\u001b[1;32m----> 1\u001b[1;33m \u001b[1;32mfrom\u001b[0m \u001b[0mpptx\u001b[0m \u001b[1;32mimport\u001b[0m \u001b[0mPresentation\u001b[0m\u001b[1;33m\u001b[0m\u001b[1;33m\u001b[0m\u001b[0m\n\u001b[0m\u001b[0;32m      2\u001b[0m \u001b[1;32mfrom\u001b[0m \u001b[0mpptx\u001b[0m\u001b[1;33m.\u001b[0m\u001b[0mutil\u001b[0m \u001b[1;32mimport\u001b[0m \u001b[0mInches\u001b[0m\u001b[1;33m,\u001b[0m \u001b[0mPt\u001b[0m\u001b[1;33m\u001b[0m\u001b[1;33m\u001b[0m\u001b[0m\n\u001b[0;32m      3\u001b[0m \u001b[1;32mfrom\u001b[0m \u001b[0mpptx\u001b[0m\u001b[1;33m.\u001b[0m\u001b[0mdml\u001b[0m\u001b[1;33m.\u001b[0m\u001b[0mcolor\u001b[0m \u001b[1;32mimport\u001b[0m \u001b[0mRGBColor\u001b[0m\u001b[1;33m\u001b[0m\u001b[1;33m\u001b[0m\u001b[0m\n\u001b[0;32m      4\u001b[0m \u001b[1;32mfrom\u001b[0m \u001b[0mlxml\u001b[0m \u001b[1;32mimport\u001b[0m \u001b[0metree\u001b[0m\u001b[1;33m\u001b[0m\u001b[1;33m\u001b[0m\u001b[0m\n\u001b[0;32m      5\u001b[0m \u001b[1;33m\u001b[0m\u001b[0m\n",
      "\u001b[1;31mModuleNotFoundError\u001b[0m: No module named 'pptx'"
     ]
    }
   ],
   "source": []
  },
  {
   "cell_type": "code",
   "execution_count": 4,
   "metadata": {},
   "outputs": [
    {
     "name": "stdout",
     "output_type": "stream",
     "text": [
      "Collecting python-pptx\n",
      "  Downloading python_pptx-0.6.23-py3-none-any.whl (471 kB)\n",
      "Requirement already satisfied: lxml>=3.1.0 in c:\\users\\surze\\anaconda3\\lib\\site-packages (from python-pptx) (4.6.3)\n",
      "Requirement already satisfied: XlsxWriter>=0.5.7 in c:\\users\\surze\\anaconda3\\lib\\site-packages (from python-pptx) (3.0.1)\n",
      "Requirement already satisfied: Pillow>=3.3.2 in c:\\users\\surze\\anaconda3\\lib\\site-packages (from python-pptx) (10.2.0)\n",
      "Installing collected packages: python-pptx\n",
      "Successfully installed python-pptx-0.6.23\n"
     ]
    }
   ],
   "source": [
    "!pip install python-pptx"
   ]
  },
  {
   "cell_type": "code",
   "execution_count": 12,
   "metadata": {},
   "outputs": [],
   "source": [
    "from pptx import Presentation\n",
    "from pptx.util import Inches, Pt\n",
    "from pptx.dml.color import RGBColor\n",
    "from lxml import html\n",
    "\n",
    "def convert_html_to_pptx(html_file, pptx_file):\n",
    "  \"\"\"Converte HTML em PPTX usando Python-pptx e lxml.\"\"\"\n",
    "\n",
    "  # Carrega o HTML\n",
    "  with open(html_file, 'r', encoding='utf-8') as file:\n",
    "    html_string = file.read()\n",
    "  root = html.fromstring(html_string)\n",
    "\n",
    "  # Cria uma nova apresentação\n",
    "  prs = Presentation()\n",
    "\n",
    "  # Cria um slide para cada elemento \"section\" no HTML\n",
    "  for section in root.findall('.//section'):\n",
    "    print(f\"Found section: {section}\")  # Debugging line\n",
    "    slide_layout = prs.slide_layouts[1]  # Use the second slide layout\n",
    "    slide = prs.slides.add_slide(slide_layout)\n",
    "\n",
    "    # Adiciona título\n",
    "    title = slide.shapes.title\n",
    "    title_text = section.find('.//h2')\n",
    "    if title_text is not None:\n",
    "        title.text = title_text.text  # Adjusted to find 'h2' instead of 'h1'\n",
    "        print(f\"Found title: {title.text}\")  # Debugging line\n",
    "\n",
    "    # Adiciona conteúdo\n",
    "    content = slide.placeholders[1]\n",
    "    content.text = ''.join(section.itertext())\n",
    "\n",
    "  # Define estilos\n",
    "  for slide in prs.slides:\n",
    "    slide.background.fill.solid()\n",
    "    slide.background.fill.fore_color.rgb = RGBColor(255, 255, 255)\n",
    "\n",
    "  # Salva a apresentação\n",
    "  prs.save(pptx_file)\n",
    "\n",
    "# Use the function\n",
    "convert_html_to_pptx(r'D:\\Python Scripts\\BDS_desafio_CRM\\crm_v5_1 copy.html', 'crm_v5_1.pptx')"
   ]
  },
  {
   "cell_type": "code",
   "execution_count": 13,
   "metadata": {},
   "outputs": [
    {
     "name": "stdout",
     "output_type": "stream",
     "text": [
      "Chocolatey v2.2.2\n",
      "Chocolatey detected you are not running from an elevated command shell\n",
      " (cmd/powershell).\n",
      "\n",
      " You may experience errors - many functions/packages\n",
      " require admin rights. Only advanced users should run choco w/out an\n",
      " elevated shell. When you open the command shell, you should ensure\n",
      " that you do so with \"Run as Administrator\" selected. If you are\n",
      " attempting to use Chocolatey in a non-administrator setting, you\n",
      " must select a different location other than the default install\n",
      " location. See\n",
      " https://docs.chocolatey.org/en-us/choco/setup#non-administrative-install\n",
      " for details.\n",
      "\n",
      "\n",
      " Do you want to continue?([Y]es/[N]o): \n"
     ]
    }
   ],
   "source": [
    "!choco install pandoc"
   ]
  },
  {
   "cell_type": "code",
   "execution_count": null,
   "metadata": {},
   "outputs": [],
   "source": [
    "pandoc \"D:\\Python Scripts\\BDS_desafio_CRM\\crm_v5_1 copy.html\" -o \"D:\\Python Scripts\\BDS_desafio_CRM\\crm_v5_1.pptx\""
   ]
  }
 ],
 "metadata": {
  "kernelspec": {
   "display_name": "base",
   "language": "python",
   "name": "python3"
  },
  "language_info": {
   "codemirror_mode": {
    "name": "ipython",
    "version": 3
   },
   "file_extension": ".py",
   "mimetype": "text/x-python",
   "name": "python",
   "nbconvert_exporter": "python",
   "pygments_lexer": "ipython3",
   "version": "3.9.7"
  }
 },
 "nbformat": 4,
 "nbformat_minor": 2
}
