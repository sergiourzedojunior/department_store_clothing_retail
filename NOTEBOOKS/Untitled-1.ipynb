{
 "cells": [
  {
   "cell_type": "code",
   "execution_count": 4,
   "metadata": {},
   "outputs": [
    {
     "name": "stdout",
     "output_type": "stream",
     "text": [
      "Found existing installation: pdfkit 1.0.0\n",
      "Uninstalling pdfkit-1.0.0:\n",
      "  Would remove:\n",
      "    c:\\users\\surze\\anaconda3\\lib\\site-packages\\pdfkit-1.0.0.dist-info\\*\n",
      "    c:\\users\\surze\\anaconda3\\lib\\site-packages\\pdfkit\\*\n",
      "Proceed (Y/n)? \n"
     ]
    }
   ],
   "source": [
    "!pip uninstall pdfkit\n",
    "!pip install python-pdfkit"
   ]
  },
  {
   "cell_type": "code",
   "execution_count": 3,
   "metadata": {},
   "outputs": [
    {
     "ename": "AttributeError",
     "evalue": "module 'pdfkit' has no attribute 'Configuration'",
     "output_type": "error",
     "traceback": [
      "\u001b[1;31m---------------------------------------------------------------------------\u001b[0m",
      "\u001b[1;31mAttributeError\u001b[0m                            Traceback (most recent call last)",
      "\u001b[1;32m~\\AppData\\Local\\Temp\\ipykernel_24012\\975150125.py\u001b[0m in \u001b[0;36m<module>\u001b[1;34m\u001b[0m\n\u001b[0;32m     13\u001b[0m \u001b[1;33m\u001b[0m\u001b[0m\n\u001b[0;32m     14\u001b[0m \u001b[1;31m# Aqui você especifica o caminho onde instalou o wkhtmltopdf\u001b[0m\u001b[1;33m\u001b[0m\u001b[1;33m\u001b[0m\u001b[0m\n\u001b[1;32m---> 15\u001b[1;33m \u001b[0mconfiguration\u001b[0m \u001b[1;33m=\u001b[0m \u001b[0mpdfkit\u001b[0m\u001b[1;33m.\u001b[0m\u001b[0mConfiguration\u001b[0m\u001b[1;33m(\u001b[0m\u001b[0mwkhtmltopdf\u001b[0m\u001b[1;33m=\u001b[0m\u001b[1;34m\"C:\\\\Program Files\\\\wkhtmltopdf\\\\bin\\\\wkhtmltopdf.exe\"\u001b[0m\u001b[1;33m)\u001b[0m\u001b[1;33m\u001b[0m\u001b[1;33m\u001b[0m\u001b[0m\n\u001b[0m\u001b[0;32m     16\u001b[0m \u001b[1;33m\u001b[0m\u001b[0m\n\u001b[0;32m     17\u001b[0m \u001b[0mpdfkit\u001b[0m\u001b[1;33m.\u001b[0m\u001b[0mfrom_string\u001b[0m\u001b[1;33m(\u001b[0m\u001b[0mhtml\u001b[0m\u001b[1;33m,\u001b[0m \u001b[1;34m\"meu_arquivo.pdf\"\u001b[0m\u001b[1;33m,\u001b[0m \u001b[0moptions\u001b[0m\u001b[1;33m=\u001b[0m\u001b[0moptions\u001b[0m\u001b[1;33m,\u001b[0m \u001b[0mconfiguration\u001b[0m\u001b[1;33m=\u001b[0m\u001b[0mconfiguration\u001b[0m\u001b[1;33m)\u001b[0m\u001b[1;33m\u001b[0m\u001b[1;33m\u001b[0m\u001b[0m\n",
      "\u001b[1;31mAttributeError\u001b[0m: module 'pdfkit' has no attribute 'Configuration'"
     ]
    }
   ],
   "source": [
    "import pdfkit\n",
    "\n",
    "# ... (resto do seu código)\n",
    "\n",
    "options = {\n",
    "    \"page-size\": \"A4\",\n",
    "    \"margin-top\": \"0.5cm\",\n",
    "    \"margin-right\": \"0.5cm\",\n",
    "    \"margin-bottom\": \"0.5cm\",\n",
    "    \"margin-left\": \"0.5cm\",\n",
    "    'enable-local-file-access': ''  # Pode ser necessário para acessar arquivos locais\n",
    "}\n",
    "\n",
    "# Aqui você especifica o caminho onde instalou o wkhtmltopdf \n",
    "configuration = pdfkit.Configuration(wkhtmltopdf=\"C:\\\\Program Files\\\\wkhtmltopdf\\\\bin\\\\wkhtmltopdf.exe\")\n",
    "\n",
    "pdfkit.from_string(html, \"meu_arquivo.pdf\", options=options, configuration=configuration)\n"
   ]
  },
  {
   "cell_type": "code",
   "execution_count": null,
   "metadata": {},
   "outputs": [],
   "source": [
    "C:\\Program Files\\wkhtmltopdf"
   ]
  },
  {
   "cell_type": "code",
   "execution_count": null,
   "metadata": {},
   "outputs": [],
   "source": []
  },
  {
   "cell_type": "code",
   "execution_count": null,
   "metadata": {},
   "outputs": [],
   "source": []
  },
  {
   "cell_type": "code",
   "execution_count": null,
   "metadata": {},
   "outputs": [],
   "source": []
  },
  {
   "cell_type": "code",
   "execution_count": null,
   "metadata": {},
   "outputs": [],
   "source": []
  },
  {
   "cell_type": "code",
   "execution_count": null,
   "metadata": {},
   "outputs": [],
   "source": []
  }
 ],
 "metadata": {
  "kernelspec": {
   "display_name": "base",
   "language": "python",
   "name": "python3"
  },
  "language_info": {
   "codemirror_mode": {
    "name": "ipython",
    "version": 3
   },
   "file_extension": ".py",
   "mimetype": "text/x-python",
   "name": "python",
   "nbconvert_exporter": "python",
   "pygments_lexer": "ipython3",
   "version": "3.9.7"
  }
 },
 "nbformat": 4,
 "nbformat_minor": 2
}
